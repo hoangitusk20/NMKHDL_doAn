{
 "cells": [
  {
   "cell_type": "markdown",
   "id": "ab3fd2f4",
   "metadata": {},
   "source": [
    "## Import các thư viện cần thiết"
   ]
  },
  {
   "cell_type": "code",
   "execution_count": 1,
   "id": "109b3163",
   "metadata": {},
   "outputs": [],
   "source": [
    "import pandas as pd\n",
    "import numpy as np\n",
    "import seaborn as sns\n",
    "import matplotlib.pyplot as plt\n",
    "from sklearn.linear_model import LinearRegression\n",
    "\n",
    "pd.set_option('display.max_columns', None)"
   ]
  },
  {
   "cell_type": "markdown",
   "id": "8367f28c",
   "metadata": {},
   "source": [
    "Trong bài này, nhóm sẽ dử dụng thuật toán hồi quy để dự đoán cân nặng dựa trên chiều dài của một bộ trong động vật, ví dụ cụ thể ở dưới là bộ \"Passeriformes\" (bộ sẻ). Trong cuộc sống hằng ngày, nhìn từ vẻ bề ngoài thì chúng ta rất dễ dàng biết một con vật dài bao nhiêu nhưng nếu không cầm lên thì không thể biết nó nặng bao nhiêu. Mô hình này sẽ giúp dự đoán được cân nặng từ chiều dài. Để dự đoán cân nặng từ chiều dài của tất cả động vật thì rất khó, tại vì mỗi động vật sẽ có những đặc điểm khác nhau, nhưng khi nó thuộc cùng một bộ, nó sẽ có rất nhiều đặc điểm giống nhau và có thể suy luận được sự liên quan này. "
   ]
  },
  {
   "cell_type": "markdown",
   "id": "3fbd378c",
   "metadata": {},
   "source": [
    "## Đọc dữ liệu từ file\n",
    "File dữ liệu của đồ án sau bước thu thập dữ liệu đang nằm tại địa chỉ '../thu_thap_du_lieu/animal_crawler/animal_info.csv'. Ta sẽ tiến hành đọc dữ liệu đã thu thập và lưu vào DataFrame `animal_df`"
   ]
  },
  {
   "cell_type": "code",
   "execution_count": 2,
   "id": "c48c47a7",
   "metadata": {},
   "outputs": [
    {
     "name": "stderr",
     "output_type": "stream",
     "text": [
      "/tmp/ipykernel_1012/2748818031.py:1: DtypeWarning: Columns (4) have mixed types. Specify dtype option on import or set low_memory=False.\n",
      "  data_df = pd.read_csv(\"../kham_pha_du_lieu/animals_split_info.csv\", index_col = 0)\n"
     ]
    }
   ],
   "source": [
    "data_df = pd.read_csv(\"../kham_pha_du_lieu/animals_split_info.csv\", index_col = 0)"
   ]
  },
  {
   "cell_type": "code",
   "execution_count": 3,
   "id": "3b445be2",
   "metadata": {},
   "outputs": [],
   "source": [
    "#Lọc ra dữ liệu có bộ là Passeriformes\n",
    "order = 'Passeriformes'\n",
    "order_df = data_df[data_df['Order'] == order]\n"
   ]
  },
  {
   "cell_type": "markdown",
   "id": "be358328",
   "metadata": {},
   "source": [
    "## Loại bỏ các giá trị nan"
   ]
  },
  {
   "cell_type": "code",
   "execution_count": 4,
   "id": "028e2472",
   "metadata": {},
   "outputs": [],
   "source": [
    "#Loại bỏ các giá trị nan\n",
    "order_df = order_df.dropna(subset = ['Length', 'Weight'])"
   ]
  },
  {
   "cell_type": "markdown",
   "id": "d7f7d39b",
   "metadata": {},
   "source": [
    "Ta sẽ xem các giá trị có trong 2 cột length và weight"
   ]
  },
  {
   "cell_type": "code",
   "execution_count": 5,
   "id": "5d9c0b54",
   "metadata": {},
   "outputs": [
    {
     "data": {
      "text/html": [
       "<div>\n",
       "<style scoped>\n",
       "    .dataframe tbody tr th:only-of-type {\n",
       "        vertical-align: middle;\n",
       "    }\n",
       "\n",
       "    .dataframe tbody tr th {\n",
       "        vertical-align: top;\n",
       "    }\n",
       "\n",
       "    .dataframe thead th {\n",
       "        text-align: right;\n",
       "    }\n",
       "</style>\n",
       "<table border=\"1\" class=\"dataframe\">\n",
       "  <thead>\n",
       "    <tr style=\"text-align: right;\">\n",
       "      <th></th>\n",
       "      <th>Length</th>\n",
       "      <th>Weight</th>\n",
       "    </tr>\n",
       "  </thead>\n",
       "  <tbody>\n",
       "    <tr>\n",
       "      <th>19031</th>\n",
       "      <td>16.00</td>\n",
       "      <td>0.0320</td>\n",
       "    </tr>\n",
       "    <tr>\n",
       "      <th>19032</th>\n",
       "      <td>60.50</td>\n",
       "      <td>1.3500</td>\n",
       "    </tr>\n",
       "    <tr>\n",
       "      <th>19034</th>\n",
       "      <td>26.00</td>\n",
       "      <td>0.0850</td>\n",
       "    </tr>\n",
       "    <tr>\n",
       "      <th>19036</th>\n",
       "      <td>25.50</td>\n",
       "      <td>0.0765</td>\n",
       "    </tr>\n",
       "    <tr>\n",
       "      <th>19039</th>\n",
       "      <td>26.25</td>\n",
       "      <td>0.1025</td>\n",
       "    </tr>\n",
       "    <tr>\n",
       "      <th>19045</th>\n",
       "      <td>22.25</td>\n",
       "      <td>0.0493</td>\n",
       "    </tr>\n",
       "    <tr>\n",
       "      <th>19049</th>\n",
       "      <td>13.25</td>\n",
       "      <td>0.0190</td>\n",
       "    </tr>\n",
       "    <tr>\n",
       "      <th>19051</th>\n",
       "      <td>21.00</td>\n",
       "      <td>0.0795</td>\n",
       "    </tr>\n",
       "    <tr>\n",
       "      <th>19056</th>\n",
       "      <td>16.50</td>\n",
       "      <td>26.0000</td>\n",
       "    </tr>\n",
       "    <tr>\n",
       "      <th>19060</th>\n",
       "      <td>15.75</td>\n",
       "      <td>0.0205</td>\n",
       "    </tr>\n",
       "  </tbody>\n",
       "</table>\n",
       "</div>"
      ],
      "text/plain": [
       "       Length   Weight\n",
       "19031   16.00   0.0320\n",
       "19032   60.50   1.3500\n",
       "19034   26.00   0.0850\n",
       "19036   25.50   0.0765\n",
       "19039   26.25   0.1025\n",
       "19045   22.25   0.0493\n",
       "19049   13.25   0.0190\n",
       "19051   21.00   0.0795\n",
       "19056   16.50  26.0000\n",
       "19060   15.75   0.0205"
      ]
     },
     "execution_count": 5,
     "metadata": {},
     "output_type": "execute_result"
    }
   ],
   "source": [
    "order_df[['Length', 'Weight']].head(10)"
   ]
  },
  {
   "cell_type": "markdown",
   "id": "e74c9e09",
   "metadata": {},
   "source": [
    "Ta sẽ xem mối quan hệ giữa chiều dài và cân nặng :"
   ]
  },
  {
   "cell_type": "code",
   "execution_count": 6,
   "id": "4e27f227",
   "metadata": {},
   "outputs": [
    {
     "data": {
      "image/png": "[encoded data removed]",
      "text/plain": [
       "<Figure size 432x288 with 1 Axes>"
      ]
     },
     "metadata": {
      "needs_background": "light"
     },
     "output_type": "display_data"
    }
   ],
   "source": [
    "plt.scatter(x = order_df['Length'], y = order_df['Weight'])\n",
    "plt.xlabel('Cân nặng (kg)')\n",
    "plt.ylabel('Chiều dài (cm)')\n",
    "plt.title('Biểu đồ minh họa quan hệ giữa cân nặng và chiều dài')\n",
    "plt.show()"
   ]
  },
  {
   "cell_type": "markdown",
   "id": "1f7b51f0",
   "metadata": {},
   "source": [
    "## Loại bỏ các outlier"
   ]
  },
  {
   "cell_type": "markdown",
   "id": "d07a279b",
   "metadata": {},
   "source": [
    "Như hình trên, dữ liệu vẫn còn 1 số outlier, trước hết ta cần loại bỏ những outlier này, ta sẽ sử dụng phương pháp IQR"
   ]
  },
  {
   "cell_type": "code",
   "execution_count": 7,
   "id": "b510a61c",
   "metadata": {},
   "outputs": [],
   "source": [
    "def remove_outlier_iqr(df, col):\n",
    "    q1 = np.percentile(df[col], 25)\n",
    "    q3 = np.percentile(df[col], 75)\n",
    "    iqr = q3 - q1\n",
    "    lower_iqr = q1 - iqr * 1.5\n",
    "    upper_iqr = q3 + iqr * 1.5\n",
    "    #remove outlier\n",
    "    new_df = df[df[col] <= upper_iqr]\n",
    "    new_df = new_df[new_df[col] >= lower_iqr]\n",
    "    return new_df\n",
    "\n",
    "order_df = remove_outlier_iqr(order_df, 'Weight')\n",
    "order_df = remove_outlier_iqr(order_df, 'Length')"
   ]
  },
  {
   "cell_type": "markdown",
   "id": "ff8ae0fd",
   "metadata": {},
   "source": [
    "Xem lại kết quả sau khi loại bỏ outlier"
   ]
  },
  {
   "cell_type": "code",
   "execution_count": 8,
   "id": "d6708246",
   "metadata": {},
   "outputs": [
    {
     "data": {
      "image/png": "[encoded data removed]",
      "text/plain": [
       "<Figure size 432x288 with 1 Axes>"
      ]
     },
     "metadata": {
      "needs_background": "light"
     },
     "output_type": "display_data"
    }
   ],
   "source": [
    "plt.scatter(x = order_df['Length'], y = order_df['Weight'])\n",
    "plt.xlabel('Cân nặng (kg)')\n",
    "plt.ylabel('Chiều dài (cm)')\n",
    "plt.title('Biểu đồ minh họa quan hệ giữa cân nặng và chiều dài')\n",
    "plt.show()"
   ]
  },
  {
   "cell_type": "markdown",
   "id": "30df5c0e",
   "metadata": {},
   "source": [
    "##  Training model "
   ]
  },
  {
   "cell_type": "code",
   "execution_count": 9,
   "id": "c1cca4cc",
   "metadata": {},
   "outputs": [
    {
     "name": "stdout",
     "output_type": "stream",
     "text": [
      "Hệ số xác định (coefficient of determination): 0.7627111910786906\n",
      "coefficient: [0.00456255]\n",
      "intercept: -0.04406135203955367\n"
     ]
    }
   ],
   "source": [
    "length = np.array(order_df['Length']).reshape(-1, 1)\n",
    "weight = np.array(order_df['Weight'])\n",
    "model = LinearRegression().fit(length, weight)\n",
    "\n",
    "r2 = model.score(length, weight)\n",
    "\n",
    "print('Hệ số xác định (coefficient of determination):', r2)\n",
    "\n",
    "print('coefficient:', model.coef_)\n",
    "\n",
    "print('intercept:', model.intercept_)\n",
    "\n"
   ]
  },
  {
   "cell_type": "markdown",
   "id": "a8f504ab",
   "metadata": {},
   "source": [
    "Giải thích: \n",
    "- Hệ số xác định r2 là mức độ phù hợp của mô hình, hệ số càng cao mô hình càng phù hợp.\n",
    "- Coefficient và intercept lần lượt là 2 hệ số a và b trong đường thẳng hồi quy Y = aX + b"
   ]
  },
  {
   "cell_type": "markdown",
   "id": "90906cb1",
   "metadata": {},
   "source": [
    "## Vẽ biểu đồ minh họa"
   ]
  },
  {
   "cell_type": "code",
   "execution_count": 10,
   "id": "cc082627",
   "metadata": {},
   "outputs": [
    {
     "data": {
      "image/png": "[encoded data removed]",
      "text/plain": [
       "<Figure size 432x288 with 1 Axes>"
      ]
     },
     "metadata": {
      "needs_background": "light"
     },
     "output_type": "display_data"
    }
   ],
   "source": [
    "y_predict = model.predict(length)\n",
    "\n",
    "plt.scatter(x = length, y = weight)\n",
    "plt.plot(length, y_predict, 'r')\n",
    "plt.xlabel('Cân nặng (kg)')\n",
    "plt.ylabel('Chiều dài (cm)')\n",
    "plt.title('Biểu đồ minh họa quan hệ giữa cân nặng và chiều dài')\n",
    "plt.show()"
   ]
  },
  {
   "cell_type": "markdown",
   "id": "d19838bf",
   "metadata": {},
   "source": [
    "## Decision Tree Regressor Model"
   ]
  },
  {
   "cell_type": "code",
   "execution_count": 11,
   "id": "1359d4a2",
   "metadata": {},
   "outputs": [],
   "source": [
    "# data = length\n",
    "# print(data)\n",
    "# data = length.reshape(-1, 1)\n",
    "# data = data.sort(key=lambda x: int(x[0]))\n",
    "\n",
    "data = length\n",
    "target = weight"
   ]
  },
  {
   "cell_type": "code",
   "execution_count": 12,
   "id": "547f48ef",
   "metadata": {},
   "outputs": [],
   "source": [
    "from sklearn.tree import DecisionTreeRegressor\n",
    "from sklearn.metrics import mean_squared_error\n",
    "\n",
    "tree = DecisionTreeRegressor(max_depth=5).fit(data, target)\n",
    "y_predict = tree.predict(data)\n",
    "mse = mean_squared_error(target, y_predict)"
   ]
  },
  {
   "cell_type": "code",
   "execution_count": 13,
   "id": "90440fdb",
   "metadata": {},
   "outputs": [
    {
     "data": {
      "image/png": "[encoded data removed]",
      "text/plain": [
       "<Figure size 432x288 with 1 Axes>"
      ]
     },
     "metadata": {
      "needs_background": "light"
     },
     "output_type": "display_data"
    }
   ],
   "source": [
    "y_predict = tree.predict(length)\n",
    "\n",
    "plt.scatter(x = length, y = weight)\n",
    "plt.scatter(x = length, y = y_predict)\n",
    "plt.ylabel('Cân nặng (kg)')\n",
    "plt.xlabel('Chiều dài (cm)')\n",
    "plt.title('Biểu đồ minh họa quan hệ giữa cân nặng và chiều dài')\n",
    "plt.show()"
   ]
  },
  {
   "cell_type": "code",
   "execution_count": 14,
   "id": "9619915a",
   "metadata": {},
   "outputs": [
    {
     "name": "stdout",
     "output_type": "stream",
     "text": [
      "Hệ số xác định (coefficient of determination): 0.8549723589366018\n"
     ]
    }
   ],
   "source": [
    "r2 = tree.score(length, weight)\n",
    "print('Hệ số xác định (coefficient of determination):', r2)"
   ]
  },
  {
   "cell_type": "markdown",
   "id": "0f2dc494",
   "metadata": {},
   "source": [
    "## Binned Regression Model"
   ]
  },
  {
   "cell_type": "code",
   "execution_count": 15,
   "id": "8f74dca7",
   "metadata": {},
   "outputs": [
    {
     "name": "stdout",
     "output_type": "stream",
     "text": [
      "8.70303782058814e-05\n"
     ]
    }
   ],
   "source": [
    "print(mse)"
   ]
  },
  {
   "cell_type": "code",
   "execution_count": 16,
   "id": "30d73fdd",
   "metadata": {},
   "outputs": [],
   "source": [
    "from sklearn.preprocessing import KBinsDiscretizer\n",
    "from sklearn.pipeline import make_pipeline\n",
    "\n",
    "binned_regression = make_pipeline(\n",
    "    KBinsDiscretizer(n_bins=15), LinearRegression(),\n",
    ")\n",
    "binned_regression.fit(data, target)\n",
    "y_predict = binned_regression.predict(data)\n",
    "mse = mean_squared_error(target, y_predict)"
   ]
  },
  {
   "cell_type": "code",
   "execution_count": 17,
   "id": "dd161b12",
   "metadata": {},
   "outputs": [
    {
     "data": {
      "image/png": "[encoded data removed]",
      "text/plain": [
       "<Figure size 432x288 with 1 Axes>"
      ]
     },
     "metadata": {
      "needs_background": "light"
     },
     "output_type": "display_data"
    }
   ],
   "source": [
    "y_predict = binned_regression.predict(length)\n",
    "\n",
    "plt.scatter(x = length, y = weight)\n",
    "plt.scatter(x = length, y = y_predict)\n",
    "plt.ylabel('Cân nặng (kg)')\n",
    "plt.xlabel('Chiều dài (cm)')\n",
    "plt.title('Biểu đồ minh họa quan hệ giữa cân nặng và chiều dài')\n",
    "plt.show()"
   ]
  },
  {
   "cell_type": "code",
   "execution_count": 18,
   "id": "b21c38ee",
   "metadata": {},
   "outputs": [
    {
     "name": "stdout",
     "output_type": "stream",
     "text": [
      "Hệ số xác định (coefficient of determination): 0.7872268632588325\n"
     ]
    }
   ],
   "source": [
    "r2 = binned_regression.score(length, weight)\n",
    "print('Hệ số xác định (coefficient of determination):', r2)"
   ]
  },
  {
   "cell_type": "markdown",
   "id": "41494df9",
   "metadata": {},
   "source": []
  },
  {
   "cell_type": "code",
   "execution_count": 19,
   "id": "104a5d1e",
   "metadata": {},
   "outputs": [],
   "source": [
    "from sklearn.preprocessing import PolynomialFeatures\n",
    "\n",
    "polynomial_regression = make_pipeline(\n",
    "    PolynomialFeatures(degree=3, include_bias=False),\n",
    "    LinearRegression(),\n",
    ")\n",
    "polynomial_regression.fit(data, target)\n",
    "y_predict = polynomial_regression.predict(data)\n",
    "mse = mean_squared_error(target, y_predict)"
   ]
  },
  {
   "cell_type": "code",
   "execution_count": 20,
   "id": "43f49ede",
   "metadata": {},
   "outputs": [
    {
     "data": {
      "image/png": "[encoded data removed]",
      "text/plain": [
       "<Figure size 432x288 with 1 Axes>"
      ]
     },
     "metadata": {
      "needs_background": "light"
     },
     "output_type": "display_data"
    }
   ],
   "source": [
    "y_predict = polynomial_regression.predict(length)\n",
    "\n",
    "plt.scatter(x = length, y = weight)\n",
    "plt.scatter(x = length, y = y_predict)\n",
    "plt.ylabel('Cân nặng (kg)')\n",
    "plt.xlabel('Chiều dài (cm)')\n",
    "plt.title('Biểu đồ minh họa quan hệ giữa cân nặng và chiều dài')\n",
    "plt.show()"
   ]
  },
  {
   "cell_type": "code",
   "execution_count": 21,
   "id": "1a69e39e",
   "metadata": {},
   "outputs": [
    {
     "name": "stdout",
     "output_type": "stream",
     "text": [
      "Hệ số xác định (coefficient of determination): 0.7863539418690033\n"
     ]
    }
   ],
   "source": [
    "r2 = polynomial_regression.score(length, weight)\n",
    "print('Hệ số xác định (coefficient of determination):', r2)"
   ]
  },
  {
   "cell_type": "code",
   "execution_count": null,
   "id": "2381714b",
   "metadata": {},
   "outputs": [],
   "source": []
  }
 ],
 "metadata": {
  "kernelspec": {
   "display_name": "Python 3 (ipykernel)",
   "language": "python",
   "name": "python3"
  },
  "language_info": {
   "codemirror_mode": {
    "name": "ipython",
    "version": 3
   },
   "file_extension": ".py",
   "mimetype": "text/x-python",
   "name": "python",
   "nbconvert_exporter": "python",
   "pygments_lexer": "ipython3",
   "version": "3.9.12"
  }
 },
 "nbformat": 4,
 "nbformat_minor": 5
}
