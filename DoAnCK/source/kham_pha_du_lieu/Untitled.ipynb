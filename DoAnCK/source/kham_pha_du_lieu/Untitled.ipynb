{
 "cells": [
  {
   "cell_type": "markdown",
   "id": "6830f99b",
   "metadata": {},
   "source": [
    "# Khám phá dữ liệu"
   ]
  },
  {
   "cell_type": "markdown",
   "id": "e2a8d512",
   "metadata": {},
   "source": [
    "Notebook này để khám phá dữ liệu."
   ]
  },
  {
   "cell_type": "markdown",
   "id": "40204191",
   "metadata": {},
   "source": [
    "## Import những thư viện cần thiết"
   ]
  },
  {
   "cell_type": "code",
   "execution_count": 2,
   "id": "c8529f23",
   "metadata": {},
   "outputs": [],
   "source": [
    "import numpy as np\n",
    "import pandas as pd"
   ]
  },
  {
   "cell_type": "markdown",
   "id": "f1ddc04f",
   "metadata": {},
   "source": [
    "## Đọc dữ liệu từ file"
   ]
  },
  {
   "cell_type": "markdown",
   "id": "5d796d66",
   "metadata": {},
   "source": [
    "File dữ liệu của đồ án sau bước thu thập dữ liệu đang nằm tại địa chỉ '../thu_thap_du_lieu/animal_crawler/animal_info.csv'. Ta sẽ tiến hành đọc dữ liệu đã thu thập và lưu vào DataFrame `animal_df`"
   ]
  },
  {
   "cell_type": "code",
   "execution_count": 3,
   "id": "b31aaf87",
   "metadata": {},
   "outputs": [],
   "source": [
    "animal_df = pd.read_csv('../thu_thap_du_lieu/animal_crawler/animal_info.csv')"
   ]
  },
  {
   "cell_type": "markdown",
   "id": "271ea6e2",
   "metadata": {},
   "source": [
    "Hiển thị 5 dòng đầu tiên trong dữ liệu để xem thử đã đọc đúng hay chưa"
   ]
  },
  {
   "cell_type": "code",
   "execution_count": 5,
   "id": "094c8bc2",
   "metadata": {
    "scrolled": true
   },
   "outputs": [
    {
     "data": {
      "text/html": [
       "<div>\n",
       "<style scoped>\n",
       "    .dataframe tbody tr th:only-of-type {\n",
       "        vertical-align: middle;\n",
       "    }\n",
       "\n",
       "    .dataframe tbody tr th {\n",
       "        vertical-align: top;\n",
       "    }\n",
       "\n",
       "    .dataframe thead th {\n",
       "        text-align: right;\n",
       "    }\n",
       "</style>\n",
       "<table border=\"1\" class=\"dataframe\">\n",
       "  <thead>\n",
       "    <tr style=\"text-align: right;\">\n",
       "      <th></th>\n",
       "      <th>Name</th>\n",
       "      <th>Kingdom</th>\n",
       "      <th>Phylum</th>\n",
       "      <th>Subphylum</th>\n",
       "      <th>Class</th>\n",
       "      <th>Order</th>\n",
       "      <th>Suborder</th>\n",
       "      <th>Family</th>\n",
       "      <th>Genus</th>\n",
       "      <th>Species</th>\n",
       "      <th>...</th>\n",
       "      <th>Top speed</th>\n",
       "      <th>Weight</th>\n",
       "      <th>Height</th>\n",
       "      <th>Length</th>\n",
       "      <th>Attributes</th>\n",
       "      <th>Distribution</th>\n",
       "      <th>Habits</th>\n",
       "      <th>Diet</th>\n",
       "      <th>Mating_Habits</th>\n",
       "      <th>Population</th>\n",
       "    </tr>\n",
       "  </thead>\n",
       "  <tbody>\n",
       "    <tr>\n",
       "      <th>0</th>\n",
       "      <td>Grey Wolf</td>\n",
       "      <td>Animalia</td>\n",
       "      <td>Chordata</td>\n",
       "      <td>Vertebrata</td>\n",
       "      <td>Mammalia</td>\n",
       "      <td>Carnivora</td>\n",
       "      <td>Caniformia</td>\n",
       "      <td>Canidae</td>\n",
       "      <td>Canis</td>\n",
       "      <td>Canis lupus</td>\n",
       "      <td>...</td>\n",
       "      <td>75 km/h</td>\n",
       "      <td>16-60 kg</td>\n",
       "      <td>80-85 cm</td>\n",
       "      <td>105-160 cm</td>\n",
       "      <td>Nocturnal,Carnivore,Scavenger,Terrestrial,Curs...</td>\n",
       "      <td>{'Geography': {'Continents': 'Asia, Europe, No...</td>\n",
       "      <td>{'Group name': 'pack, route, rout  Terrestrial...</td>\n",
       "      <td>Carnivore,,Scavenger</td>\n",
       "      <td>{'Mating behavior': 'Monogamy', 'Reproduction ...</td>\n",
       "      <td>{'Population trend': 'Stable', 'Population sta...</td>\n",
       "    </tr>\n",
       "    <tr>\n",
       "      <th>1</th>\n",
       "      <td>Brown Bear</td>\n",
       "      <td>Animalia</td>\n",
       "      <td>Chordata</td>\n",
       "      <td>Vertebrata</td>\n",
       "      <td>Mammalia</td>\n",
       "      <td>Carnivora</td>\n",
       "      <td>Caniformia</td>\n",
       "      <td>Ursidae</td>\n",
       "      <td>Ursus</td>\n",
       "      <td>Ursus arctos</td>\n",
       "      <td>...</td>\n",
       "      <td>56 km/h</td>\n",
       "      <td>100-635 kg</td>\n",
       "      <td>70-153 cm</td>\n",
       "      <td>1.4-2.8 m</td>\n",
       "      <td>Crepuscular,Omnivore,Terrestrial,Altricial,Nom...</td>\n",
       "      <td>{'Geography': {'Continents': 'Asia, Europe, No...</td>\n",
       "      <td>{'Group name': 'sloth, sleuth', 'Lifestyle': '...</td>\n",
       "      <td>Omnivore</td>\n",
       "      <td>{'Mating behavior': 'Polygynandry,', 'Reproduc...</td>\n",
       "      <td>{'Population trend': 'Stable', 'Population sta...</td>\n",
       "    </tr>\n",
       "    <tr>\n",
       "      <th>2</th>\n",
       "      <td>Koala</td>\n",
       "      <td>Animalia</td>\n",
       "      <td>Chordata</td>\n",
       "      <td>Vertebrata</td>\n",
       "      <td>Mammalia</td>\n",
       "      <td>Diprotodontia</td>\n",
       "      <td>NaN</td>\n",
       "      <td>Phascolarctidae</td>\n",
       "      <td>Phascolarctos</td>\n",
       "      <td>Phascolarctos cinereus</td>\n",
       "      <td>...</td>\n",
       "      <td>10 km/h</td>\n",
       "      <td>4-15 kg</td>\n",
       "      <td>60-85 cm</td>\n",
       "      <td>NaN</td>\n",
       "      <td>Nocturnal,Herbivore,Folivore,Arboreal,Altricia...</td>\n",
       "      <td>{'Geography': {'Continents': 'Oceania', 'Count...</td>\n",
       "      <td>{'Lifestyle': 'Arboreal, Altricial, Terrestria...</td>\n",
       "      <td>Herbivore,,Folivore</td>\n",
       "      <td>{'Mating behavior': 'Polygyny', 'Reproduction ...</td>\n",
       "      <td>{'Population trend': 'Decreasing', 'Population...</td>\n",
       "    </tr>\n",
       "    <tr>\n",
       "      <th>3</th>\n",
       "      <td>Giant Panda</td>\n",
       "      <td>Animalia</td>\n",
       "      <td>Chordata</td>\n",
       "      <td>Vertebrata</td>\n",
       "      <td>Mammalia</td>\n",
       "      <td>Carnivora</td>\n",
       "      <td>Caniformia</td>\n",
       "      <td>Ursidae</td>\n",
       "      <td>Ailuropoda</td>\n",
       "      <td>Ailuropoda melanoleuca</td>\n",
       "      <td>...</td>\n",
       "      <td>32 km/h</td>\n",
       "      <td>70-160 kg</td>\n",
       "      <td>60-90 cm</td>\n",
       "      <td>1.2-1.9 m</td>\n",
       "      <td>Crepuscular,Nocturnal,Herbivore,Folivore,Terre...</td>\n",
       "      <td>{'Geography': {'Continents': 'Asia', 'Subconti...</td>\n",
       "      <td>{'Group name': 'sleuth', 'Lifestyle': 'Terrest...</td>\n",
       "      <td>Herbivore,,Folivore</td>\n",
       "      <td>{'Mating behavior': 'Polygyny', 'Reproduction ...</td>\n",
       "      <td>{'Population trend': 'Increasing', 'Population...</td>\n",
       "    </tr>\n",
       "    <tr>\n",
       "      <th>4</th>\n",
       "      <td>Lion</td>\n",
       "      <td>Animalia</td>\n",
       "      <td>Chordata</td>\n",
       "      <td>Vertebrata</td>\n",
       "      <td>Mammalia</td>\n",
       "      <td>Carnivora</td>\n",
       "      <td>Feliformia</td>\n",
       "      <td>Felidae</td>\n",
       "      <td>Panthera</td>\n",
       "      <td>Panthera leo</td>\n",
       "      <td>...</td>\n",
       "      <td>56 km/h</td>\n",
       "      <td>120-249 kg</td>\n",
       "      <td>NaN</td>\n",
       "      <td>140-250 cm</td>\n",
       "      <td>Nocturnal,Crepuscular,Diurnal,Scavenger,Hyperc...</td>\n",
       "      <td>{'Geography': {'Continents': 'Africa, Asia', '...</td>\n",
       "      <td>{'Group name': 'pride, sault, troop, sawt', 'L...</td>\n",
       "      <td>Scavenger,,Hypercarnivore</td>\n",
       "      <td>{'Mating behavior': 'Polygyny', 'Reproduction ...</td>\n",
       "      <td>{'Population trend': 'Decreasing', 'Population...</td>\n",
       "    </tr>\n",
       "  </tbody>\n",
       "</table>\n",
       "<p>5 rows × 22 columns</p>\n",
       "</div>"
      ],
      "text/plain": [
       "          Name   Kingdom    Phylum   Subphylum     Class          Order  \\\n",
       "0    Grey Wolf  Animalia  Chordata  Vertebrata  Mammalia      Carnivora   \n",
       "1   Brown Bear  Animalia  Chordata  Vertebrata  Mammalia      Carnivora   \n",
       "2        Koala  Animalia  Chordata  Vertebrata  Mammalia  Diprotodontia   \n",
       "3  Giant Panda  Animalia  Chordata  Vertebrata  Mammalia      Carnivora   \n",
       "4         Lion  Animalia  Chordata  Vertebrata  Mammalia      Carnivora   \n",
       "\n",
       "     Suborder           Family          Genus                 Species  ...  \\\n",
       "0  Caniformia          Canidae          Canis             Canis lupus  ...   \n",
       "1  Caniformia          Ursidae          Ursus            Ursus arctos  ...   \n",
       "2         NaN  Phascolarctidae  Phascolarctos  Phascolarctos cinereus  ...   \n",
       "3  Caniformia          Ursidae     Ailuropoda  Ailuropoda melanoleuca  ...   \n",
       "4  Feliformia          Felidae       Panthera            Panthera leo  ...   \n",
       "\n",
       "  Top speed      Weight     Height      Length  \\\n",
       "0   75 km/h    16-60 kg   80-85 cm  105-160 cm   \n",
       "1   56 km/h  100-635 kg  70-153 cm   1.4-2.8 m   \n",
       "2   10 km/h     4-15 kg   60-85 cm         NaN   \n",
       "3   32 km/h   70-160 kg   60-90 cm   1.2-1.9 m   \n",
       "4   56 km/h  120-249 kg        NaN  140-250 cm   \n",
       "\n",
       "                                          Attributes  \\\n",
       "0  Nocturnal,Carnivore,Scavenger,Terrestrial,Curs...   \n",
       "1  Crepuscular,Omnivore,Terrestrial,Altricial,Nom...   \n",
       "2  Nocturnal,Herbivore,Folivore,Arboreal,Altricia...   \n",
       "3  Crepuscular,Nocturnal,Herbivore,Folivore,Terre...   \n",
       "4  Nocturnal,Crepuscular,Diurnal,Scavenger,Hyperc...   \n",
       "\n",
       "                                        Distribution  \\\n",
       "0  {'Geography': {'Continents': 'Asia, Europe, No...   \n",
       "1  {'Geography': {'Continents': 'Asia, Europe, No...   \n",
       "2  {'Geography': {'Continents': 'Oceania', 'Count...   \n",
       "3  {'Geography': {'Continents': 'Asia', 'Subconti...   \n",
       "4  {'Geography': {'Continents': 'Africa, Asia', '...   \n",
       "\n",
       "                                              Habits  \\\n",
       "0  {'Group name': 'pack, route, rout  Terrestrial...   \n",
       "1  {'Group name': 'sloth, sleuth', 'Lifestyle': '...   \n",
       "2  {'Lifestyle': 'Arboreal, Altricial, Terrestria...   \n",
       "3  {'Group name': 'sleuth', 'Lifestyle': 'Terrest...   \n",
       "4  {'Group name': 'pride, sault, troop, sawt', 'L...   \n",
       "\n",
       "                        Diet  \\\n",
       "0       Carnivore,,Scavenger   \n",
       "1                   Omnivore   \n",
       "2        Herbivore,,Folivore   \n",
       "3        Herbivore,,Folivore   \n",
       "4  Scavenger,,Hypercarnivore   \n",
       "\n",
       "                                       Mating_Habits  \\\n",
       "0  {'Mating behavior': 'Monogamy', 'Reproduction ...   \n",
       "1  {'Mating behavior': 'Polygynandry,', 'Reproduc...   \n",
       "2  {'Mating behavior': 'Polygyny', 'Reproduction ...   \n",
       "3  {'Mating behavior': 'Polygyny', 'Reproduction ...   \n",
       "4  {'Mating behavior': 'Polygyny', 'Reproduction ...   \n",
       "\n",
       "                                          Population  \n",
       "0  {'Population trend': 'Stable', 'Population sta...  \n",
       "1  {'Population trend': 'Stable', 'Population sta...  \n",
       "2  {'Population trend': 'Decreasing', 'Population...  \n",
       "3  {'Population trend': 'Increasing', 'Population...  \n",
       "4  {'Population trend': 'Decreasing', 'Population...  \n",
       "\n",
       "[5 rows x 22 columns]"
      ]
     },
     "execution_count": 5,
     "metadata": {},
     "output_type": "execute_result"
    }
   ],
   "source": [
    "animal_df.head(5)"
   ]
  },
  {
   "cell_type": "markdown",
   "id": "9e8bc1d9",
   "metadata": {},
   "source": [
    "Vậy là đọc dữ liệu từ file đã ok"
   ]
  },
  {
   "cell_type": "markdown",
   "id": "a5e3c311",
   "metadata": {},
   "source": [
    "## Dữ liệu có bao nhiêu dòng, bao nhiêu cột?"
   ]
  },
  {
   "cell_type": "code",
   "execution_count": 7,
   "id": "bf78617d",
   "metadata": {},
   "outputs": [
    {
     "data": {
      "text/plain": [
       "(6300, 22)"
      ]
     },
     "execution_count": 7,
     "metadata": {},
     "output_type": "execute_result"
    }
   ],
   "source": [
    "animal_df.shape"
   ]
  },
  {
   "cell_type": "markdown",
   "id": "b810b7ae",
   "metadata": {},
   "source": [
    "## Mỗi dòng có ý nghĩa gì? Có vấn đề các dòng có ý nghĩa khác nhau không?"
   ]
  },
  {
   "cell_type": "markdown",
   "id": "7642ba52",
   "metadata": {},
   "source": [
    "Mỗi dòng cho chúng ta biết các thông tin về một con vật, tất cả các dòng đều có cùng ý nghĩa như nhau."
   ]
  },
  {
   "cell_type": "markdown",
   "id": "ff2a8bd7",
   "metadata": {},
   "source": [
    "## Dữ liệu có các dòng bị lặp không?"
   ]
  },
  {
   "cell_type": "markdown",
   "id": "742faa05",
   "metadata": {},
   "source": [
    "Chúng ta sử dụng hàm 'duplicated' trong pandas để kiểm tra dòng đó có phải bị lặp trong DataFrame hay không. Nếu kết quả là dòng đó bị lặp sẽ trả về giá trị 1, ngược lại sẽ là 0. Kế tiếp chúng ta sử dùng hàm 'sum' để tính tất cả giá trị trả về của hàm 'duplicated'. Nếu kết quả > 0 thì chứng tỏ có tồn tại dòng bị lặp. "
   ]
  },
  {
   "cell_type": "code",
   "execution_count": 10,
   "id": "6f3c287b",
   "metadata": {},
   "outputs": [
    {
     "data": {
      "text/plain": [
       "0"
      ]
     },
     "execution_count": 10,
     "metadata": {},
     "output_type": "execute_result"
    }
   ],
   "source": [
    "animal_df.duplicated().sum()"
   ]
  },
  {
   "cell_type": "markdown",
   "id": "e3778d8e",
   "metadata": {},
   "source": [
    "Vậy là dữ liệu của chúng ta không tồn lại dòng nào bị lặp lại."
   ]
  },
  {
   "cell_type": "markdown",
   "id": "9da781fc",
   "metadata": {},
   "source": [
    "## Mỗi cột có ý nghĩa gì?"
   ]
  },
  {
   "cell_type": "code",
   "execution_count": 13,
   "id": "79ddae12",
   "metadata": {},
   "outputs": [
    {
     "data": {
      "text/plain": [
       "Index(['Name', 'Kingdom', 'Phylum', 'Subphylum', 'Class', 'Order', 'Suborder',\n",
       "       'Family', 'Genus', 'Species', 'Population size', 'Life span',\n",
       "       'Top speed', 'Weight', 'Height', 'Length', 'Attributes', 'Distribution',\n",
       "       'Habits', 'Diet', 'Mating_Habits', 'Population'],\n",
       "      dtype='object')"
      ]
     },
     "execution_count": 13,
     "metadata": {},
     "output_type": "execute_result"
    }
   ],
   "source": [
    "animal_df.columns"
   ]
  },
  {
   "cell_type": "code",
   "execution_count": null,
   "id": "91e90fb9",
   "metadata": {},
   "outputs": [],
   "source": []
  }
 ],
 "metadata": {
  "kernelspec": {
   "display_name": "Python 3 (ipykernel)",
   "language": "python",
   "name": "python3"
  },
  "language_info": {
   "codemirror_mode": {
    "name": "ipython",
    "version": 3
   },
   "file_extension": ".py",
   "mimetype": "text/x-python",
   "name": "python",
   "nbconvert_exporter": "python",
   "pygments_lexer": "ipython3",
   "version": "3.8.8"
  }
 },
 "nbformat": 4,
 "nbformat_minor": 5
}
