{
 "cells": [
  {
   "cell_type": "markdown",
   "id": "d3d420a8",
   "metadata": {},
   "source": [
    "Notebook này là source code dùng để thu thập tất cả link của các loài thú trên trang https://animalia.bio/"
   ]
  },
  {
   "cell_type": "code",
   "execution_count": 1,
   "id": "75fa8aa8",
   "metadata": {},
   "outputs": [],
   "source": [
    "#Cài đặt selenium, chrome, chromedriver\n",
    "#!pip install selenium\n",
    "#!apt-get update \n",
    "#!apt install chromium-chromedriver\n",
    "#!cp /usr/lib/chromium-browser/chromedriver /usr/bin\n",
    "#Cài đặt beautifulsoup để crawl dữ liệu, vì beautifulsoup sẽ nhanh hơn selenium\n",
    "#!pip install beautifulsoup4"
   ]
  },
  {
   "cell_type": "code",
   "execution_count": 2,
   "id": "349bcb48",
   "metadata": {},
   "outputs": [],
   "source": [
    "import sys\n",
    "from selenium import webdriver\n",
    "from bs4 import BeautifulSoup\n",
    "from selenium.webdriver.common.by import By\n",
    "from selenium.webdriver.common.action_chains import ActionChains\n",
    "import pandas as pd"
   ]
  },
  {
   "cell_type": "code",
   "execution_count": 3,
   "id": "f8cc305c",
   "metadata": {},
   "outputs": [],
   "source": [
    "#Khởi tạo driver\n",
    "sys.path.insert(0,'/usr/lib/chromium-browser/chromedriver')\n",
    "chrome_options = webdriver.ChromeOptions()\n",
    "chrome_options.add_argument('--headless')\n",
    "chrome_options.add_argument('--no-sandbox')\n",
    "chrome_options.add_argument('--disable-dev-shm-usage')\n",
    "driver = webdriver.Chrome('chromedriver',options=chrome_options)\n"
   ]
  },
  {
   "cell_type": "code",
   "execution_count": 4,
   "id": "03b2cd01",
   "metadata": {},
   "outputs": [],
   "source": [
    "#Get url của trang cần lấy dữ liệu\n",
    "driver.get(\"https://animalia.bio/mammals?page=1\")"
   ]
  },
  {
   "cell_type": "code",
   "execution_count": 5,
   "id": "2c1bcd4e",
   "metadata": {},
   "outputs": [],
   "source": [
    "page = 1\n",
    "while page < 151:\n",
    "  try:\n",
    "    driver.find_element(\"xpath\", '/html/body/div[3]/div[2]/div/div[5]/div[3]/div[1]/span').click()\n",
    "    page += 1\n",
    "  except:\n",
    "    pass"
   ]
  },
  {
   "cell_type": "markdown",
   "id": "dad10a2e",
   "metadata": {},
   "source": [
    "Cơ chế của website này là click vào button \"LOAD MORE\" thì sẽ cập nhật thêm dữ liệu của trang mới vào và dữ liệu trang cũ vẫn còn đó. Như vậy, ta tính được thú thì có 151 trang (nhóm chỉ xét lớp thú), nên bấm vào button đó 150 lần để load dữ liệu vào rồi lưu xuống file html để crawl dữ liệu một lần. Mặc dù khi bấm vào button \"LOAD MORE\" thì url của trang có đổi nhưng nhóm vẫn không hiểu vì sao nếu nhập tay url vào thì nó tự reset về trang 1. Vì vậy nhóm phải dùng selenium để click vào button 150 lần.\n",
    "Test ở link :https://animalia.bio/mammals?page=1"
   ]
  },
  {
   "cell_type": "code",
   "execution_count": 6,
   "id": "3aa1053f",
   "metadata": {},
   "outputs": [],
   "source": [
    "#Lưu kết quả xuống file html\n",
    "with open(\"animals.html\", \"w\") as f:\n",
    "    f.write(driver.page_source)"
   ]
  },
  {
   "cell_type": "code",
   "execution_count": 7,
   "id": "f6060ec2",
   "metadata": {},
   "outputs": [],
   "source": [
    "with open(\"animals.html\") as fp:\n",
    "    soup = BeautifulSoup(fp, \"html.parser\")\n",
    "animals_urls = soup.find_all(\"a\", {\"class\": \"animals-invert__item\"}) #Tìm tất cả các link của thú rồi lưu vào biến"
   ]
  },
  {
   "cell_type": "code",
   "execution_count": 8,
   "id": "c55055e7",
   "metadata": {},
   "outputs": [],
   "source": [
    "animals_urls = [a['href'][:-11] for a in animals_urls] #Lấy link của từng thú, bỏ phần \"?category=1\"\n",
    "animals_urls_df = pd.DataFrame(data = animals_urls, columns = [\"url\"])\n",
    "animals_urls_df.to_csv('animals_urls.csv') #Xuất kết quả ra file csv"
   ]
  }
 ],
 "metadata": {
  "kernelspec": {
   "display_name": "Python 3 (ipykernel)",
   "language": "python",
   "name": "python3"
  },
  "language_info": {
   "codemirror_mode": {
    "name": "ipython",
    "version": 3
   },
   "file_extension": ".py",
   "mimetype": "text/x-python",
   "name": "python",
   "nbconvert_exporter": "python",
   "pygments_lexer": "ipython3",
   "version": "3.8.13"
  }
 },
 "nbformat": 4,
 "nbformat_minor": 5
}
